{
 "cells": [
  {
   "cell_type": "markdown",
   "metadata": {},
   "source": [
    "# Coding Challenge - 002 : Convert Milliseconds into Hours, Minutes, and Seconds\n",
    "\n",
    "Purpose of the this coding challenge is to write program that converts the given milliseconds into hours, minutes, and seconds.\n",
    "\n",
    "## Learning Outcomes\n",
    "\n",
    "At the end of the this coding challenge, students will be able to;\n",
    "\n",
    "- analyze a problem, identify and apply programming knowledge for appropriate solution.\n",
    "\n",
    "- design, implement `while` loops effectively in Python to solve the given problem.\n",
    "\n",
    "- control loops effectively by using `if` and `control` statements.\n",
    "\n",
    "- apply arithmetic operations on basic data types in Python.\n",
    "\n",
    "- demonstrate their knowledge of string manipulations and formatting in Python.\n",
    "\n",
    "- demonstrate their knowledge of algorithmic design principles by using function effectively.\n",
    "\n",
    "   \n",
    "## Problem Statement\n",
    "\n",
    "- Write program that converts the given milliseconds into hours, minutes, and seconds. The program should convert only from milliseconds to hours/minutes/seconds, not vice versa and during the conversion following notes should be taken into consideration.\n",
    "\n",
    "   - If the calculated time of hours is 0, it should not be shown in the output.\n",
    "\n",
    "   - If the calculated time of minutes is 0, it should not be shown in the output.\n",
    "\n",
    "   - If the calculated time of seconds is 0, it should not be shown in the output.\n",
    "\n",
    "   - If the milliseconds is greater than 1000, remainder milliseconds should not be shown in the output.\n",
    "\n",
    "   - If milliseconds given is less than 1000, only milliseconds should be shown in the output.\n",
    "\n",
    "   - Output should always be string in the format shown in the examples.\n",
    "\n",
    "- Program should ask user for the input, after giving information text show as below.\n",
    "\n",
    "```text\n",
    "###  This program converts milliseconds into hours, minutes, and seconds ###\n",
    "(To exit the program, please type \"exit\")\n",
    "Please enter the milliseconds (should be greater than zero) :  \n",
    "```\n",
    "\n",
    "- User input can be either integer or string, thus the input should be checked for the followings,\n",
    "\n",
    "   - The input should be a decimal number greater then zero.\n",
    "   \n",
    "   - If the input is less then 1, user should be warned and asked for input again.\n",
    "\n",
    "   - If the input is string and can not be converted to decimal number, user should be warned and asked for input again.\n",
    "\n",
    "- Program should run until the user types `exit` in case insensitive manner.\n",
    "   \n",
    "- Example for user inputs and respective outputs\n",
    "\n",
    "```\n",
    "Input             Output\n",
    "(milliseconds)    (Calculated Time) \n",
    "--------------    -----------------\n",
    "555               just 555 millisecond/s\n",
    "2001              2 second/s\n",
    "60011             1 minute/s\n",
    "122011            2 minute/s 2 second/s\n",
    "3661011           1 hour/s 1 minute/s 1 second/s\n",
    "7200011           2 hour/s\n",
    "7322011           2 hour/s 2 minute/s 2 second/s\n",
    "-8                \"Not Valid Input !!!\"\n",
    "Ten               \"Not Valid Input !!!\"\n",
    "Exit              \"Exiting the program... Good Bye\"\n",
    "```"
   ]
  },
  {
   "cell_type": "code",
   "execution_count": null,
   "metadata": {},
   "outputs": [],
   "source": [
    "# 1 sn 1000 millisecond\n",
    "# 60 000 milisecond  1 minute, \n",
    "# 3 600 000        1 hr"
   ]
  },
  {
   "cell_type": "code",
   "execution_count": 68,
   "metadata": {},
   "outputs": [
    {
     "data": {
      "text/plain": [
       "'2 hour/s 2 minute/s 2 second/s'"
      ]
     },
     "execution_count": 68,
     "metadata": {},
     "output_type": "execute_result"
    }
   ],
   "source": [
    "def convert_sec(num):\n",
    "    hours = num // 3600000\n",
    "    minutes = (num % 3600000) // 60000\n",
    "    second = (num % 60000) // 1000\n",
    "    millisec = num % 1000\n",
    "    return f'{hours} hour/s'*(hours != 0) + f' {minutes} minute/s'*(minutes != 0) + f' {second} second/s' *(second != 0) or f'just {millisec} millisecond/s' * (millisec < 1000)\n",
    "\n",
    "convert_sec(7322011)"
   ]
  },
  {
   "cell_type": "code",
   "execution_count": 64,
   "metadata": {},
   "outputs": [
    {
     "name": "stdout",
     "output_type": "stream",
     "text": [
      " 3 minute/s 54 second/s\n"
     ]
    }
   ],
   "source": [
    "num = 234566\n",
    "hours = num // 3600000\n",
    "minutes = (num % 3600000) // 60000\n",
    "second = (num % 60000) // 1000\n",
    "millisec = num % 1000\n",
    "\n",
    "# if hours == 0 or minutes == 0 or second == 0  :\n",
    "#         hours, minutes, second = \" \"\n",
    "# if num // 3600000 > 0 or (num % 3600000) // 60000 > 0 or (num % 60000) // 1000 > 0 :\n",
    "#         millisec = \"\"\n",
    "    \n",
    "print(f'{hours} hour/s'*(hours != 0) + f' {minutes} minute/s'*(minutes != 0) + f' {second} second/s' *(second != 0) or f'just {millisec} millisecond/s' * (millisec < 1000))"
   ]
  },
  {
   "cell_type": "code",
   "execution_count": null,
   "metadata": {},
   "outputs": [],
   "source": [
    "def convert_sec(num):\n",
    "    hours = num // 3600000\n",
    "    minutes = (num % 3600000) // 60000\n",
    "    second = (num % 60000) // 1000\n",
    "    millisec = num % 1000\n",
    "    return f'{hours} hour/s'*(hours != 0) + f' {minutes} minute/s'*(minutes != 0) + f' {second} second/s' *(second != 0) or f'just {millisec} millisecond/s' * (millisec < 1000)\n",
    "\n",
    "\n",
    "is_invalid = False\n",
    "\n",
    "while True:\n",
    "   \n",
    "    info = \"\"\"\n",
    "###  This program converts milliseconds to hours, minutes, seconds ###\n",
    "(To exit the program, please type \"exit\")\n",
    "Please enter a decimal number greater then zero, inclusively : \"\"\"\n",
    "    \n",
    "    millisec = input('\\nNot Valid Input !!!\\n'*is_invalid + info).strip()\n",
    "    # if the input is not decimal number\n",
    "    if not millisec.isdecimal():\n",
    "        # then check, if it is the \"exit\" keyword\n",
    "        if millisec.lower() == 'exit':\n",
    "            print('\\nExiting the program... Good Bye')\n",
    "            break\n",
    "        \n",
    "        else:\n",
    "            is_invalid = True\n",
    "            continue\n",
    "   \n",
    "    number = int(millisec)\n",
    "    # if the number is between 1 and 3999, inclusively\n",
    "    if  number > 0:\n",
    "        print(\n",
    "            f'\\nMilisecond  of \"{number}\" is equal to {convert_sec(number)}')\n",
    "        # and set invalid flag to the False, it might be set the True in previous cycle\n",
    "        is_invalid = False\n",
    "    # if the number is out of bounds\n",
    "    else:\n",
    "        # then set to invalid flag to True to show warning\n",
    "        is_invalid = True\n",
    "\n"
   ]
  },
  {
   "cell_type": "code",
   "execution_count": 62,
   "metadata": {},
   "outputs": [
    {
     "name": "stdout",
     "output_type": "stream",
     "text": [
      "0\n"
     ]
    }
   ],
   "source": [
    "print(2345*False)"
   ]
  },
  {
   "cell_type": "code",
   "execution_count": 14,
   "metadata": {},
   "outputs": [
    {
     "data": {
      "text/plain": [
       "2200"
      ]
     },
     "execution_count": 14,
     "metadata": {},
     "output_type": "execute_result"
    }
   ],
   "source": [
    "num = 5800 \n",
    "num % 3600\n"
   ]
  },
  {
   "cell_type": "code",
   "execution_count": 15,
   "metadata": {},
   "outputs": [
    {
     "data": {
      "text/plain": [
       "36"
      ]
     },
     "execution_count": 15,
     "metadata": {},
     "output_type": "execute_result"
    }
   ],
   "source": [
    "2200//60"
   ]
  },
  {
   "cell_type": "code",
   "execution_count": null,
   "metadata": {},
   "outputs": [],
   "source": []
  },
  {
   "cell_type": "code",
   "execution_count": 38,
   "metadata": {},
   "outputs": [],
   "source": [
    "num = 1800"
   ]
  },
  {
   "cell_type": "code",
   "execution_count": 41,
   "metadata": {},
   "outputs": [
    {
     "data": {
      "text/plain": [
       "0"
      ]
     },
     "execution_count": 41,
     "metadata": {},
     "output_type": "execute_result"
    }
   ],
   "source": [
    "num // 3600000 # hours"
   ]
  },
  {
   "cell_type": "code",
   "execution_count": 42,
   "metadata": {},
   "outputs": [
    {
     "data": {
      "text/plain": [
       "0"
      ]
     },
     "execution_count": 42,
     "metadata": {},
     "output_type": "execute_result"
    }
   ],
   "source": [
    "(num % 3600000) // 60000 # minute"
   ]
  },
  {
   "cell_type": "code",
   "execution_count": 43,
   "metadata": {},
   "outputs": [
    {
     "data": {
      "text/plain": [
       "1"
      ]
     },
     "execution_count": 43,
     "metadata": {},
     "output_type": "execute_result"
    }
   ],
   "source": [
    "(num % 60000) // 1000    # second"
   ]
  },
  {
   "cell_type": "code",
   "execution_count": 39,
   "metadata": {},
   "outputs": [
    {
     "data": {
      "text/plain": [
       "800"
      ]
     },
     "execution_count": 39,
     "metadata": {},
     "output_type": "execute_result"
    }
   ],
   "source": [
    "num % 1000  # milisecond"
   ]
  },
  {
   "cell_type": "code",
   "execution_count": 66,
   "metadata": {},
   "outputs": [
    {
     "data": {
      "text/plain": [
       "'Second'"
      ]
     },
     "execution_count": 66,
     "metadata": {},
     "output_type": "execute_result"
    }
   ],
   "source": [
    "0 or 'Second'"
   ]
  },
  {
   "cell_type": "code",
   "execution_count": null,
   "metadata": {},
   "outputs": [],
   "source": []
  }
 ],
 "metadata": {
  "interpreter": {
   "hash": "bf18297ba29ab59974e3cde921359bf4732846305eb0ebd212cf3897d725727a"
  },
  "kernelspec": {
   "display_name": "Python 3.9.7 64-bit",
   "name": "python3"
  },
  "language_info": {
   "codemirror_mode": {
    "name": "ipython",
    "version": 3
   },
   "file_extension": ".py",
   "mimetype": "text/x-python",
   "name": "python",
   "nbconvert_exporter": "python",
   "pygments_lexer": "ipython3",
   "version": "3.9.7"
  },
  "orig_nbformat": 4
 },
 "nbformat": 4,
 "nbformat_minor": 2
}
